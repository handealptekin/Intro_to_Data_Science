{
  "nbformat": 4,
  "nbformat_minor": 0,
  "metadata": {
    "colab": {
      "name": "Cs210_Alptekin_Hande_th2.ipynb",
      "provenance": [],
      "collapsed_sections": [],
      "toc_visible": true
    },
    "kernelspec": {
      "name": "python3",
      "display_name": "Python 3"
    }
  },
  "cells": [
    {
      "cell_type": "markdown",
      "metadata": {
        "id": "SqrxFTQCWpwP"
      },
      "source": [
        "## Take-Home Exam 2 : Statistics & Hypothesis Testing\n",
        "\n",
        "*In this take-home exam, you are going to study hypothesis testing and related statistics concepts in more detail.*\n",
        "\n",
        "**Submission Instructions**\n",
        "\n",
        "---\n",
        "Copy this assignment to your Drive. <font color = 'red'> `File` --> `Save a copy in Drive`</font>. Rename it as <font color = 'green'>`Lastname_Firstname_th2`</font>.\n",
        "\n",
        "Write your solutions in the cells  marked <font color = 'green'>`# your code`</font>.\n",
        "\n",
        "When you're done please submit your solutions as an <font color=\"red\">`.ipynb`</font> file. To do so:\n",
        "\n",
        "\n",
        "1.  Click on <font color=\"red\">`File`</font>  at the top left on the Colab screen, then click on <font color = 'red'>`Download .ipynb`</font>.\n",
        "2.   Then submit the <font color=\"red\">`.ipynb`</font> version of your work on SUCourse.\n",
        "\n",
        "\n",
        "For any question, you may send an email to the TAs and LAs.\n",
        "\n",
        "---"
      ]
    },
    {
      "cell_type": "code",
      "metadata": {
        "id": "mwtNu_WbXn5M",
        "colab": {
          "base_uri": "https://localhost:8080/",
          "height": 34
        },
        "outputId": "dd70123f-3b7f-4185-8e64-12caa315f114"
      },
      "source": [
        "from google.colab import drive\n",
        "drive.mount(\"/content/drive\", force_remount=True)\n",
        "\n",
        "path_prefix = \"/content/drive/My Drive\""
      ],
      "execution_count": null,
      "outputs": [
        {
          "output_type": "stream",
          "text": [
            "Mounted at /content/drive\n"
          ],
          "name": "stdout"
        }
      ]
    },
    {
      "cell_type": "code",
      "metadata": {
        "id": "HGEQHR7yXsHk"
      },
      "source": [
        "import pandas as pd\n",
        "import numpy as np\n",
        "import matplotlib.pyplot as plt\n",
        "from os.path import join\n",
        "\n",
        "%matplotlib inline"
      ],
      "execution_count": null,
      "outputs": []
    },
    {
      "cell_type": "markdown",
      "metadata": {
        "id": "PKSnYTo-WQmb"
      },
      "source": [
        "### Question 1: t-Distributions & t-Test"
      ]
    },
    {
      "cell_type": "markdown",
      "metadata": {
        "id": "yuaxzQa7aF84"
      },
      "source": [
        "> The **t-distribution** (aka, Student’s t-distribution) is a probability distribution that is used to estimate population parameters when the sample size is small and/or when the population variance is unknown.\n",
        "\n",
        "> **Degrees of Freedom**: There are actually many different t-distributions. The particular form of the t-distribution is determined by its degrees of freedom. The degrees of freedom refers to the number of independent observations in a set of data. When estimating a mean score or a proportion from a single sample, the number of independent observations is equal to the sample size minus one. Hence, the distribution of the t-statistic from samples of size 8 would be described by a t-distribution having 8 - 1 or 7 degrees of freedom.\n",
        "\n",
        "For further information regarding t-distribution you can check the [Wikipedia](https://en.wikipedia.org/wiki/Student%27s_t-distribution) and [StatTrek](https://stattrek.com/probability-distributions/t-distribution.aspx).\n",
        "\n",
        "Now, below **you have a scenario where a t-distribution is needed to be utilized for hypothesis testing**.\n",
        "\n",
        "---\n",
        "\n",
        "**Question Scenario** : An iron company has a sample of 35 irons for which the monthly electric consumption is measured. The values can be observed in the list variable named `sample_values` below. In addition, engineers of the company initially had claims for **average monthly consumption of all irons to be 84 kWh**. However, the company finds the resulting consumption values **exceeding** the given claim. As a result, the company wants to know if the sampled 35 irons have a greater average monthly consumption than the estimated mean, 84 kWh.\n",
        "\n",
        "---"
      ]
    },
    {
      "cell_type": "code",
      "metadata": {
        "id": "QQEkxaT10WpU"
      },
      "source": [
        "sample_values = [\n",
        "  87, 83, 84, 86, 85, 89, 81, 89, 81, 89, 87, 82, 88, 85, 87, 84, 87, 83,\n",
        "  81, 82, 80, 89, 87, 82, 84, 81, 86, 81, 87, 89, 83, 80, 89, 85, 80\n",
        "]"
      ],
      "execution_count": null,
      "outputs": []
    },
    {
      "cell_type": "markdown",
      "metadata": {
        "id": "eX9QIIg1aOVn"
      },
      "source": [
        "#### Task 1: Null and Alternative Hypotheses\n",
        "\n",
        "From the given question above, please fill the null and alternative hypotheses definitions below."
      ]
    },
    {
      "cell_type": "markdown",
      "metadata": {
        "id": "YwFMMJ4m1Wmm"
      },
      "source": [
        "\n",
        "\n",
        "```\n",
        "# This is formatted as code\n",
        "```\n",
        "\n",
        "<font color=\"blue\"></font>\n",
        "\n",
        "$ H_0: $ Average monthly consumption of all irons is 84 kWh.\n",
        "\n",
        "$ H_1: $ Average monthly consumption of all irons is not 84 kwH."
      ]
    },
    {
      "cell_type": "markdown",
      "metadata": {
        "id": "cBuKTOGnbAK2"
      },
      "source": [
        "#### Task 2: Type of the Hypothesis Testing\n",
        "Are we conducting a left-tailed or a right-tailed hypothesis testing? Why?"
      ]
    },
    {
      "cell_type": "markdown",
      "metadata": {
        "id": "_n-H3qgAba8I"
      },
      "source": [
        "\n",
        "*We are conducting a right tailed test since the company \n",
        "finds the resulting consumption values exceeding 84 kWh. Meaning, it examine the righter side. Hypothesis is: consumption > 84 kWh.*\n"
      ]
    },
    {
      "cell_type": "markdown",
      "metadata": {
        "id": "UlQIgj9ObiGy"
      },
      "source": [
        "#### Task 3: t-Statistic\n",
        "\n",
        "Since the sample we have is small and lacking inforformation regarding the actual population, we are going to utilize the t-distribution to model our data. In order to locate the sample mean, we'll deploy t-scores. You may think of it as a z-score, but defined for a t-distribution.\n",
        "\n",
        "The formula for calculating the t-score is given below;\n",
        "\n",
        "![](https://wikimedia.org/api/rest_v1/media/math/render/svg/fefcbd88b2358228836cc4dc9e1a84f99765715d)\n",
        "\n",
        "where \n",
        "  - $\\bar{X}$ is sample mean,\n",
        "  - $ \\mu$ is the mean to be tested,\n",
        "  - $S$ is the sample standard deviation,\n",
        "  - $n$ is the sample size,\n",
        "  - also the degree of freedom is $n-1$\n",
        "\n",
        "Now, calculate the t value (t-test statistic) for the question.\n",
        "\n",
        "*hint: You also need to calculate some of the metrics above.*"
      ]
    },
    {
      "cell_type": "code",
      "metadata": {
        "id": "dTVhf_Operwo",
        "colab": {
          "base_uri": "https://localhost:8080/",
          "height": 34
        },
        "outputId": "764030ac-647f-4cfe-a312-8112cbd46498"
      },
      "source": [
        "sample_values = [\n",
        "  87, 83, 84, 86, 85, 89, 81, 89, 81, 89, 87, 82, 88, 85, 87, 84, 87, 83,\n",
        "  81, 82, 80, 89, 87, 82, 84, 81, 86, 81, 87, 89, 83, 80, 89, 85, 80\n",
        "]\n",
        "\n",
        "mean_to_test = 84.00\n",
        "n= 35\n",
        "sample_mean = np.array(sample_values).mean()\n",
        "\n",
        "sample_std_dev = np.array(sample_values).std()\n",
        "\n",
        "t_score = (sample_mean - mean_to_test) / (sample_std_dev / (n)**(1/2))\n",
        "\n",
        "print(t_score)"
      ],
      "execution_count": null,
      "outputs": [
        {
          "output_type": "stream",
          "text": [
            "1.2780031950464965\n"
          ],
          "name": "stdout"
        }
      ]
    },
    {
      "cell_type": "markdown",
      "metadata": {
        "id": "RlKeaAjagkZA"
      },
      "source": [
        "#### Task 4: t-Distribution\n",
        "\n",
        "In the rats' mean response time experiment, our alternative hypothesis stated that the sample's mean response time is less than the mean response time of the population. To this end, we obtained the corresponding z-score of the sample mean, our test statistic, and showed it on the population distribution. Then, calculated the required probability accordingly. \n",
        "\n",
        "In the figure below, we have a standard normal distribution and a z-score of -1.96. The blue shaded area represents a left-tailed test.\n",
        "\n",
        "![](https://mat117.wisconsin.edu/wp-content/uploads/2014/12/section3-21.png)\n",
        "\n",
        "Now using the t-distribution option from `scipy.stats`, plot a 0-centric t-distribution with the correct degrees of freedom and shade the area of interest in the question scenario for the appropriate test type.\n",
        "\n",
        "*p.s. You may check the documentation for numpy implemantation of t-distribution from this [link](https://docs.scipy.org/doc/scipy/reference/generated/scipy.stats.t.html#scipy.stats.t)*"
      ]
    },
    {
      "cell_type": "code",
      "metadata": {
        "id": "NLsGTfuMXmmi",
        "colab": {
          "base_uri": "https://localhost:8080/",
          "height": 265
        },
        "outputId": "710f2774-bc2a-4d87-c13f-0e885bc380a7"
      },
      "source": [
        "from scipy.stats import t\n",
        "\n",
        "fig, ax = plt.subplots(1, 1)\n",
        "df= n-1  #degree of freedom\n",
        "mean, var, skew, kurt = t.stats(df, moments='mvsk')\n",
        "\n",
        "x = np.linspace(t.ppf(0.01, df),t.ppf(0.99, df), 100)\n",
        "ax.plot(x, t.pdf(x, df),'r-', lw=5, alpha=0.5, label='t-pdf')\n",
        "rv = t(df)\n",
        "ax.plot(x, rv.pdf(x), 'k-', lw=2, label='frozen pdf')\n",
        "\n",
        "vals = t.ppf([0.001, 0.5, 0.999], df)\n",
        "np.allclose([0.001, 0.5, 0.999], t.cdf(vals, df))\n",
        "r = t.rvs(df, size=1000)\n",
        "ax.hist(r, density=True, histtype='stepfilled', alpha=0.5)\n",
        "ax.legend(loc='best', frameon=False)\n",
        "plt.show()"
      ],
      "execution_count": null,
      "outputs": [
        {
          "output_type": "display_data",
          "data": {
            "image/png": "[encoded data removed]",
            "text/plain": [
              "<Figure size 432x288 with 1 Axes>"
            ]
          },
          "metadata": {
            "tags": [],
            "needs_background": "light"
          }
        }
      ]
    },
    {
      "cell_type": "markdown",
      "metadata": {
        "id": "vIA6JnWRhVBw"
      },
      "source": [
        "#### Task 5: p-value and Test Result\n",
        "\n",
        "By using the appropriate method of testing from `scipy.stats` conduct the hypothesis test needed for the question given. Then, by checking the resulting p-value, evaluate the scenario (accept or reject the null hypothesis? why?) with significance level ($\\alpha$) set to 0.05. \n",
        "\n",
        "*p.s. By default, scipy's hypothesis testing functions perform two-tailed tests. In other words, the resulting p-values are calculated for the  two-tailed scenario. You should find a way to convert them to one-tail.*"
      ]
    },
    {
      "cell_type": "code",
      "metadata": {
        "id": "GPyNpJDXiZLa",
        "colab": {
          "base_uri": "https://localhost:8080/",
          "height": 34
        },
        "outputId": "d957959c-036d-4001-b1d6-66d1025b24cf"
      },
      "source": [
        "from scipy import stats\n",
        "\n",
        "from scipy.stats import ttest_1samp\n",
        "\n",
        "tset, pval = ttest_1samp(sample_values, 84.00)\n",
        "\n",
        "if pval < 0.05: \n",
        "  print(\" we are rejecting null hypothesis\")\n",
        "else:\n",
        "  print(\"we are accepting null hypothesis\")\n"
      ],
      "execution_count": null,
      "outputs": [
        {
          "output_type": "stream",
          "text": [
            "we are accepting null hypothesis\n"
          ],
          "name": "stdout"
        }
      ]
    },
    {
      "cell_type": "markdown",
      "metadata": {
        "id": "o02Zvgga_hKI"
      },
      "source": [
        "*We are accepting the null hypothesis because p-value is calculated it was bigger than %5.*\n"
      ]
    },
    {
      "cell_type": "markdown",
      "metadata": {
        "id": "RcG1zCLGW02N"
      },
      "source": [
        "### Question 2: Two-tailed t-Test"
      ]
    },
    {
      "cell_type": "markdown",
      "metadata": {
        "id": "dWn5t6Yp7TDF"
      },
      "source": [
        "For the second question, you will utilize the *TMDB 5000 Movie Dataset* from [Kaggle](https://www.kaggle.com/tmdb/tmdb-movie-metadata#tmdb_5000_movies.csv). For the dataset, the csv file called `tmdb_5000_movies.csv` has already been shared with you.\n",
        "\n",
        "Our objective is to check if there is any statistically significant difference between the IMBD ratings (named as `\"vote_average\"` in the dataset) of USA and non-USA made movies. Below, you may find the hypothesis setting.\n",
        "\n",
        "$\\mu_{us}$: avg. IMDB rating of US made movies  \n",
        "$\\mu_{non-us}$: avg. IMDB rating of non-US made movies\n",
        "\n",
        "$H_0: \\mu_{us} = \\mu_{non-us}$  \n",
        "$H_A: \\mu_{us} \\neq \\mu_{non-us}$\n",
        "\n",
        "#### Task 1: Preprocessing\n",
        "\n",
        "As you can also check, some of the columns in the dataset need preprocessing. In this task, you need to write a function to be applied to the dataframe using the information in the column named `production_countries`. The function should be used for discriminating movies produced in the United States and movies produced in other countries. If a movie has multiple countries for production where United States is one of them, you should consider it as United States made as well. Apply your function to create a new column, named `\"made_where\"`. Lastly, show the top 3 rows of the resulting dataframe. "
      ]
    },
    {
      "cell_type": "code",
      "metadata": {
        "id": "yqGcNEBcBB-u",
        "colab": {
          "base_uri": "https://localhost:8080/",
          "height": 702
        },
        "outputId": "e3ae6cec-fd2d-46e8-c0c2-4ff627d0dc82"
      },
      "source": [
        "df = pd.read_csv(join(path_prefix, \"tmdb_5000_movies.csv\"))\n",
        "df.head()\n"
      ],
      "execution_count": null,
      "outputs": [
        {
          "output_type": "execute_result",
          "data": {
            "text/html": [
              "<div>\n",
              "<style scoped>\n",
              "    .dataframe tbody tr th:only-of-type {\n",
              "        vertical-align: middle;\n",
              "    }\n",
              "\n",
              "    .dataframe tbody tr th {\n",
              "        vertical-align: top;\n",
              "    }\n",
              "\n",
              "    .dataframe thead th {\n",
              "        text-align: right;\n",
              "    }\n",
              "</style>\n",
              "<table border=\"1\" class=\"dataframe\">\n",
              "  <thead>\n",
              "    <tr style=\"text-align: right;\">\n",
              "      <th></th>\n",
              "      <th>budget</th>\n",
              "      <th>genres</th>\n",
              "      <th>homepage</th>\n",
              "      <th>id</th>\n",
              "      <th>keywords</th>\n",
              "      <th>original_language</th>\n",
              "      <th>original_title</th>\n",
              "      <th>overview</th>\n",
              "      <th>popularity</th>\n",
              "      <th>production_companies</th>\n",
              "      <th>production_countries</th>\n",
              "      <th>release_date</th>\n",
              "      <th>revenue</th>\n",
              "      <th>runtime</th>\n",
              "      <th>spoken_languages</th>\n",
              "      <th>status</th>\n",
              "      <th>tagline</th>\n",
              "      <th>title</th>\n",
              "      <th>vote_average</th>\n",
              "      <th>vote_count</th>\n",
              "    </tr>\n",
              "  </thead>\n",
              "  <tbody>\n",
              "    <tr>\n",
              "      <th>0</th>\n",
              "      <td>237000000</td>\n",
              "      <td>[{\"id\": 28, \"name\": \"Action\"}, {\"id\": 12, \"nam...</td>\n",
              "      <td>http://www.avatarmovie.com/</td>\n",
              "      <td>19995</td>\n",
              "      <td>[{\"id\": 1463, \"name\": \"culture clash\"}, {\"id\":...</td>\n",
              "      <td>en</td>\n",
              "      <td>Avatar</td>\n",
              "      <td>In the 22nd century, a paraplegic Marine is di...</td>\n",
              "      <td>150.437577</td>\n",
              "      <td>[{\"name\": \"Ingenious Film Partners\", \"id\": 289...</td>\n",
              "      <td>[{\"iso_3166_1\": \"US\", \"name\": \"United States o...</td>\n",
              "      <td>2009-12-10</td>\n",
              "      <td>2787965087</td>\n",
              "      <td>162.0</td>\n",
              "      <td>[{\"iso_639_1\": \"en\", \"name\": \"English\"}, {\"iso...</td>\n",
              "      <td>Released</td>\n",
              "      <td>Enter the World of Pandora.</td>\n",
              "      <td>Avatar</td>\n",
              "      <td>7.2</td>\n",
              "      <td>11800</td>\n",
              "    </tr>\n",
              "    <tr>\n",
              "      <th>1</th>\n",
              "      <td>300000000</td>\n",
              "      <td>[{\"id\": 12, \"name\": \"Adventure\"}, {\"id\": 14, \"...</td>\n",
              "      <td>http://disney.go.com/disneypictures/pirates/</td>\n",
              "      <td>285</td>\n",
              "      <td>[{\"id\": 270, \"name\": \"ocean\"}, {\"id\": 726, \"na...</td>\n",
              "      <td>en</td>\n",
              "      <td>Pirates of the Caribbean: At World's End</td>\n",
              "      <td>Captain Barbossa, long believed to be dead, ha...</td>\n",
              "      <td>139.082615</td>\n",
              "      <td>[{\"name\": \"Walt Disney Pictures\", \"id\": 2}, {\"...</td>\n",
              "      <td>[{\"iso_3166_1\": \"US\", \"name\": \"United States o...</td>\n",
              "      <td>2007-05-19</td>\n",
              "      <td>961000000</td>\n",
              "      <td>169.0</td>\n",
              "      <td>[{\"iso_639_1\": \"en\", \"name\": \"English\"}]</td>\n",
              "      <td>Released</td>\n",
              "      <td>At the end of the world, the adventure begins.</td>\n",
              "      <td>Pirates of the Caribbean: At World's End</td>\n",
              "      <td>6.9</td>\n",
              "      <td>4500</td>\n",
              "    </tr>\n",
              "    <tr>\n",
              "      <th>2</th>\n",
              "      <td>245000000</td>\n",
              "      <td>[{\"id\": 28, \"name\": \"Action\"}, {\"id\": 12, \"nam...</td>\n",
              "      <td>http://www.sonypictures.com/movies/spectre/</td>\n",
              "      <td>206647</td>\n",
              "      <td>[{\"id\": 470, \"name\": \"spy\"}, {\"id\": 818, \"name...</td>\n",
              "      <td>en</td>\n",
              "      <td>Spectre</td>\n",
              "      <td>A cryptic message from Bond’s past sends him o...</td>\n",
              "      <td>107.376788</td>\n",
              "      <td>[{\"name\": \"Columbia Pictures\", \"id\": 5}, {\"nam...</td>\n",
              "      <td>[{\"iso_3166_1\": \"GB\", \"name\": \"United Kingdom\"...</td>\n",
              "      <td>2015-10-26</td>\n",
              "      <td>880674609</td>\n",
              "      <td>148.0</td>\n",
              "      <td>[{\"iso_639_1\": \"fr\", \"name\": \"Fran\\u00e7ais\"},...</td>\n",
              "      <td>Released</td>\n",
              "      <td>A Plan No One Escapes</td>\n",
              "      <td>Spectre</td>\n",
              "      <td>6.3</td>\n",
              "      <td>4466</td>\n",
              "    </tr>\n",
              "    <tr>\n",
              "      <th>3</th>\n",
              "      <td>250000000</td>\n",
              "      <td>[{\"id\": 28, \"name\": \"Action\"}, {\"id\": 80, \"nam...</td>\n",
              "      <td>http://www.thedarkknightrises.com/</td>\n",
              "      <td>49026</td>\n",
              "      <td>[{\"id\": 849, \"name\": \"dc comics\"}, {\"id\": 853,...</td>\n",
              "      <td>en</td>\n",
              "      <td>The Dark Knight Rises</td>\n",
              "      <td>Following the death of District Attorney Harve...</td>\n",
              "      <td>112.312950</td>\n",
              "      <td>[{\"name\": \"Legendary Pictures\", \"id\": 923}, {\"...</td>\n",
              "      <td>[{\"iso_3166_1\": \"US\", \"name\": \"United States o...</td>\n",
              "      <td>2012-07-16</td>\n",
              "      <td>1084939099</td>\n",
              "      <td>165.0</td>\n",
              "      <td>[{\"iso_639_1\": \"en\", \"name\": \"English\"}]</td>\n",
              "      <td>Released</td>\n",
              "      <td>The Legend Ends</td>\n",
              "      <td>The Dark Knight Rises</td>\n",
              "      <td>7.6</td>\n",
              "      <td>9106</td>\n",
              "    </tr>\n",
              "    <tr>\n",
              "      <th>4</th>\n",
              "      <td>260000000</td>\n",
              "      <td>[{\"id\": 28, \"name\": \"Action\"}, {\"id\": 12, \"nam...</td>\n",
              "      <td>http://movies.disney.com/john-carter</td>\n",
              "      <td>49529</td>\n",
              "      <td>[{\"id\": 818, \"name\": \"based on novel\"}, {\"id\":...</td>\n",
              "      <td>en</td>\n",
              "      <td>John Carter</td>\n",
              "      <td>John Carter is a war-weary, former military ca...</td>\n",
              "      <td>43.926995</td>\n",
              "      <td>[{\"name\": \"Walt Disney Pictures\", \"id\": 2}]</td>\n",
              "      <td>[{\"iso_3166_1\": \"US\", \"name\": \"United States o...</td>\n",
              "      <td>2012-03-07</td>\n",
              "      <td>284139100</td>\n",
              "      <td>132.0</td>\n",
              "      <td>[{\"iso_639_1\": \"en\", \"name\": \"English\"}]</td>\n",
              "      <td>Released</td>\n",
              "      <td>Lost in our world, found in another.</td>\n",
              "      <td>John Carter</td>\n",
              "      <td>6.1</td>\n",
              "      <td>2124</td>\n",
              "    </tr>\n",
              "  </tbody>\n",
              "</table>\n",
              "</div>"
            ],
            "text/plain": [
              "      budget  ... vote_count\n",
              "0  237000000  ...      11800\n",
              "1  300000000  ...       4500\n",
              "2  245000000  ...       4466\n",
              "3  250000000  ...       9106\n",
              "4  260000000  ...       2124\n",
              "\n",
              "[5 rows x 20 columns]"
            ]
          },
          "metadata": {
            "tags": []
          },
          "execution_count": 16
        }
      ]
    },
    {
      "cell_type": "code",
      "metadata": {
        "id": "6zUK89J_X2Bc",
        "colab": {
          "base_uri": "https://localhost:8080/",
          "height": 442
        },
        "outputId": "ff19e566-b56c-40db-89da-43d9c6d61a86"
      },
      "source": [
        "\n",
        "def country_categorize(production_countries):\n",
        "  if (production_countries.find(\"United States of America\") != -1):\n",
        "    return \"US\"\n",
        "  else:\n",
        "    return \"other\"\n",
        "\n",
        "df['made_where'] = df[\"production_countries\"].apply(country_categorize)\n",
        "\n",
        "df.head(3)"
      ],
      "execution_count": null,
      "outputs": [
        {
          "output_type": "execute_result",
          "data": {
            "text/html": [
              "<div>\n",
              "<style scoped>\n",
              "    .dataframe tbody tr th:only-of-type {\n",
              "        vertical-align: middle;\n",
              "    }\n",
              "\n",
              "    .dataframe tbody tr th {\n",
              "        vertical-align: top;\n",
              "    }\n",
              "\n",
              "    .dataframe thead th {\n",
              "        text-align: right;\n",
              "    }\n",
              "</style>\n",
              "<table border=\"1\" class=\"dataframe\">\n",
              "  <thead>\n",
              "    <tr style=\"text-align: right;\">\n",
              "      <th></th>\n",
              "      <th>budget</th>\n",
              "      <th>genres</th>\n",
              "      <th>homepage</th>\n",
              "      <th>id</th>\n",
              "      <th>keywords</th>\n",
              "      <th>original_language</th>\n",
              "      <th>original_title</th>\n",
              "      <th>overview</th>\n",
              "      <th>popularity</th>\n",
              "      <th>production_companies</th>\n",
              "      <th>production_countries</th>\n",
              "      <th>release_date</th>\n",
              "      <th>revenue</th>\n",
              "      <th>runtime</th>\n",
              "      <th>spoken_languages</th>\n",
              "      <th>status</th>\n",
              "      <th>tagline</th>\n",
              "      <th>title</th>\n",
              "      <th>vote_average</th>\n",
              "      <th>vote_count</th>\n",
              "      <th>made_where</th>\n",
              "    </tr>\n",
              "  </thead>\n",
              "  <tbody>\n",
              "    <tr>\n",
              "      <th>0</th>\n",
              "      <td>237000000</td>\n",
              "      <td>[{\"id\": 28, \"name\": \"Action\"}, {\"id\": 12, \"nam...</td>\n",
              "      <td>http://www.avatarmovie.com/</td>\n",
              "      <td>19995</td>\n",
              "      <td>[{\"id\": 1463, \"name\": \"culture clash\"}, {\"id\":...</td>\n",
              "      <td>en</td>\n",
              "      <td>Avatar</td>\n",
              "      <td>In the 22nd century, a paraplegic Marine is di...</td>\n",
              "      <td>150.437577</td>\n",
              "      <td>[{\"name\": \"Ingenious Film Partners\", \"id\": 289...</td>\n",
              "      <td>[{\"iso_3166_1\": \"US\", \"name\": \"United States o...</td>\n",
              "      <td>2009-12-10</td>\n",
              "      <td>2787965087</td>\n",
              "      <td>162.0</td>\n",
              "      <td>[{\"iso_639_1\": \"en\", \"name\": \"English\"}, {\"iso...</td>\n",
              "      <td>Released</td>\n",
              "      <td>Enter the World of Pandora.</td>\n",
              "      <td>Avatar</td>\n",
              "      <td>7.2</td>\n",
              "      <td>11800</td>\n",
              "      <td>US</td>\n",
              "    </tr>\n",
              "    <tr>\n",
              "      <th>1</th>\n",
              "      <td>300000000</td>\n",
              "      <td>[{\"id\": 12, \"name\": \"Adventure\"}, {\"id\": 14, \"...</td>\n",
              "      <td>http://disney.go.com/disneypictures/pirates/</td>\n",
              "      <td>285</td>\n",
              "      <td>[{\"id\": 270, \"name\": \"ocean\"}, {\"id\": 726, \"na...</td>\n",
              "      <td>en</td>\n",
              "      <td>Pirates of the Caribbean: At World's End</td>\n",
              "      <td>Captain Barbossa, long believed to be dead, ha...</td>\n",
              "      <td>139.082615</td>\n",
              "      <td>[{\"name\": \"Walt Disney Pictures\", \"id\": 2}, {\"...</td>\n",
              "      <td>[{\"iso_3166_1\": \"US\", \"name\": \"United States o...</td>\n",
              "      <td>2007-05-19</td>\n",
              "      <td>961000000</td>\n",
              "      <td>169.0</td>\n",
              "      <td>[{\"iso_639_1\": \"en\", \"name\": \"English\"}]</td>\n",
              "      <td>Released</td>\n",
              "      <td>At the end of the world, the adventure begins.</td>\n",
              "      <td>Pirates of the Caribbean: At World's End</td>\n",
              "      <td>6.9</td>\n",
              "      <td>4500</td>\n",
              "      <td>US</td>\n",
              "    </tr>\n",
              "    <tr>\n",
              "      <th>2</th>\n",
              "      <td>245000000</td>\n",
              "      <td>[{\"id\": 28, \"name\": \"Action\"}, {\"id\": 12, \"nam...</td>\n",
              "      <td>http://www.sonypictures.com/movies/spectre/</td>\n",
              "      <td>206647</td>\n",
              "      <td>[{\"id\": 470, \"name\": \"spy\"}, {\"id\": 818, \"name...</td>\n",
              "      <td>en</td>\n",
              "      <td>Spectre</td>\n",
              "      <td>A cryptic message from Bond’s past sends him o...</td>\n",
              "      <td>107.376788</td>\n",
              "      <td>[{\"name\": \"Columbia Pictures\", \"id\": 5}, {\"nam...</td>\n",
              "      <td>[{\"iso_3166_1\": \"GB\", \"name\": \"United Kingdom\"...</td>\n",
              "      <td>2015-10-26</td>\n",
              "      <td>880674609</td>\n",
              "      <td>148.0</td>\n",
              "      <td>[{\"iso_639_1\": \"fr\", \"name\": \"Fran\\u00e7ais\"},...</td>\n",
              "      <td>Released</td>\n",
              "      <td>A Plan No One Escapes</td>\n",
              "      <td>Spectre</td>\n",
              "      <td>6.3</td>\n",
              "      <td>4466</td>\n",
              "      <td>US</td>\n",
              "    </tr>\n",
              "  </tbody>\n",
              "</table>\n",
              "</div>"
            ],
            "text/plain": [
              "      budget  ... made_where\n",
              "0  237000000  ...         US\n",
              "1  300000000  ...         US\n",
              "2  245000000  ...         US\n",
              "\n",
              "[3 rows x 21 columns]"
            ]
          },
          "metadata": {
            "tags": []
          },
          "execution_count": 17
        }
      ]
    },
    {
      "cell_type": "markdown",
      "metadata": {
        "id": "iQ6vnR7EBaCm"
      },
      "source": [
        "#### Task 2: Visualizing the Rating Distributions\n",
        "\n",
        "Before applying the hypothesis testing, plot the distributions of ratings of movies from US and movies from other countries **in the same figure**. To this end, you may plot both ratings as histograms or seaborn kdeplots as we did in the hypothesis testing recitation."
      ]
    },
    {
      "cell_type": "code",
      "metadata": {
        "id": "gy1bFv2CCUu9",
        "colab": {
          "base_uri": "https://localhost:8080/",
          "height": 661
        },
        "outputId": "45780c33-c68f-4d88-c854-322ad5663820"
      },
      "source": [
        "\n",
        "import seaborn as sns\n",
        "\n",
        "us = df[df['made_where'] == \"US\"]['vote_average']\n",
        "other = df[df['made_where'] == \"other\"]['vote_average']\n",
        "\n",
        "fig, ax = plt.subplots(1,1, figsize = (10,10))\n",
        "\n",
        "sns.kdeplot(us , shade = True, ax=ax , label = \"US\")\n",
        "sns.kdeplot(other , shade = True, ax=ax , label = \"other\")\n",
        "plt.title(\"Rating depending on countries\")\n",
        "plt.show()\n"
      ],
      "execution_count": null,
      "outputs": [
        {
          "output_type": "stream",
          "text": [
            "/usr/local/lib/python3.6/dist-packages/statsmodels/tools/_testing.py:19: FutureWarning: pandas.util.testing is deprecated. Use the functions in the public API at pandas.testing instead.\n",
            "  import pandas.util.testing as tm\n"
          ],
          "name": "stderr"
        },
        {
          "output_type": "display_data",
          "data": {
            "image/png": "[encoded data removed]",
            "text/plain": [
              "<Figure size 720x720 with 1 Axes>"
            ]
          },
          "metadata": {
            "tags": [],
            "needs_background": "light"
          }
        }
      ]
    },
    {
      "cell_type": "markdown",
      "metadata": {
        "id": "IDtY5-hI_-CK"
      },
      "source": [
        "#### Task 3: Comparing Ratings from US and Other Countries\n",
        "\n",
        "In this section, you need to test whether there is significant difference in the rating distributions of the movies produced in the US and films produced in other countries.\n",
        "\n",
        "Now, by utilizing the new column you created, test whether ratings of movies from US and from other countries differ significantly. Again, you can utilize the `stats.ttest_ind`.\n",
        "\n",
        "Then, evaluate the results of the hypothesis testing you conducted with significance level ($\\alpha$) set to 0.05. "
      ]
    },
    {
      "cell_type": "code",
      "metadata": {
        "id": "6oUq2crNC0Pc",
        "colab": {
          "base_uri": "https://localhost:8080/",
          "height": 34
        },
        "outputId": "7dd1d08b-d6cc-4eb7-ce34-a4650d7fd6d6"
      },
      "source": [
        "stats.ttest_ind(us,other, equal_var = False)\n"
      ],
      "execution_count": null,
      "outputs": [
        {
          "output_type": "execute_result",
          "data": {
            "text/plain": [
              "Ttest_indResult(statistic=2.0270548056859883, pvalue=0.04292181627082308)"
            ]
          },
          "metadata": {
            "tags": []
          },
          "execution_count": 19
        }
      ]
    },
    {
      "cell_type": "markdown",
      "metadata": {
        "id": "s3rZfRT6GiaI"
      },
      "source": [
        "*By conducting two-sampled t-test between two groups, we found our alpha (pvalue) to be less than 0.05. By that, we can say that we reject the null hypothesis of US made movies' ratings are similar to non-US made movies' ratings. Our calculation showed that there is a significant difference. Also the test score being positive shows us that US ratings are higher than other countries' ratings.*\n"
      ]
    },
    {
      "cell_type": "markdown",
      "metadata": {
        "id": "ek62TpWAW1QP"
      },
      "source": [
        "### Question 3: Chi-Square Test of Independence"
      ]
    },
    {
      "cell_type": "markdown",
      "metadata": {
        "id": "NelxCBpLX1Vz"
      },
      "source": [
        "> **Chi-Square Test** can be used to test the independence of two categorical variables. However, to determine the critical value, we need to determine the degrees of freedom. In Chi-square tests, the degree of freedom value is determined by $(r-1)(c-1)$ where $r$ is the number of rows and $c$ is the number of the columns in the contingency table (crosstab). From the image below, you can find corresponding threshold values for varying degrees of freedom and threshold critical probability $\\alpha$.\n",
        "\n",
        "<img src=\"https://www.mun.ca/biology/scarr/IntroPopGen-Table-D-01-smc.jpg\" width=\"400\" height=\"400\" />\n",
        "\n"
      ]
    },
    {
      "cell_type": "markdown",
      "metadata": {
        "id": "KTgAZVVqz5DI"
      },
      "source": [
        "For this question, you will use the `adults.csv` that is shared with you, which is a modified version of [this dataset](https://archive.ics.uci.edu/ml/datasets/Adult/). You will check for the statistical dependence between features `education` and `marital-status`.\n",
        "\n",
        "In the following test, our hypotheses setting is the following:\n",
        "\n",
        "$H_0$: `Education` and `Marital Status` are independent variables.\n",
        "\n",
        "$H_A$: `Education` and `Marital Status` are **not** independent variables."
      ]
    },
    {
      "cell_type": "code",
      "metadata": {
        "id": "PhrmKFXb0T9p",
        "colab": {
          "base_uri": "https://localhost:8080/",
          "height": 279
        },
        "outputId": "af60eb7c-0d9b-4dc2-96a0-3eb8d3594a19"
      },
      "source": [
        "adults_df = pd.read_csv(join(path_prefix, \"adults.csv\"), index_col=False)\n",
        "adults_df.head()"
      ],
      "execution_count": null,
      "outputs": [
        {
          "output_type": "execute_result",
          "data": {
            "text/html": [
              "<div>\n",
              "<style scoped>\n",
              "    .dataframe tbody tr th:only-of-type {\n",
              "        vertical-align: middle;\n",
              "    }\n",
              "\n",
              "    .dataframe tbody tr th {\n",
              "        vertical-align: top;\n",
              "    }\n",
              "\n",
              "    .dataframe thead th {\n",
              "        text-align: right;\n",
              "    }\n",
              "</style>\n",
              "<table border=\"1\" class=\"dataframe\">\n",
              "  <thead>\n",
              "    <tr style=\"text-align: right;\">\n",
              "      <th></th>\n",
              "      <th>age</th>\n",
              "      <th>workclass</th>\n",
              "      <th>fnlwgt</th>\n",
              "      <th>education</th>\n",
              "      <th>education-num</th>\n",
              "      <th>marital-status</th>\n",
              "      <th>occupation</th>\n",
              "      <th>relationship</th>\n",
              "      <th>race</th>\n",
              "      <th>sex</th>\n",
              "      <th>capital-gain</th>\n",
              "      <th>capital-loss</th>\n",
              "      <th>hours-per-week</th>\n",
              "      <th>native-country</th>\n",
              "    </tr>\n",
              "  </thead>\n",
              "  <tbody>\n",
              "    <tr>\n",
              "      <th>0</th>\n",
              "      <td>39</td>\n",
              "      <td>State-gov</td>\n",
              "      <td>77516</td>\n",
              "      <td>Bachelors</td>\n",
              "      <td>13</td>\n",
              "      <td>Never-married</td>\n",
              "      <td>Adm-clerical</td>\n",
              "      <td>Not-in-family</td>\n",
              "      <td>White</td>\n",
              "      <td>Male</td>\n",
              "      <td>2174</td>\n",
              "      <td>0</td>\n",
              "      <td>40</td>\n",
              "      <td>United-States</td>\n",
              "    </tr>\n",
              "    <tr>\n",
              "      <th>1</th>\n",
              "      <td>50</td>\n",
              "      <td>Self-emp-not-inc</td>\n",
              "      <td>83311</td>\n",
              "      <td>Bachelors</td>\n",
              "      <td>13</td>\n",
              "      <td>Married</td>\n",
              "      <td>Exec-managerial</td>\n",
              "      <td>Husband</td>\n",
              "      <td>White</td>\n",
              "      <td>Male</td>\n",
              "      <td>0</td>\n",
              "      <td>0</td>\n",
              "      <td>13</td>\n",
              "      <td>United-States</td>\n",
              "    </tr>\n",
              "    <tr>\n",
              "      <th>2</th>\n",
              "      <td>38</td>\n",
              "      <td>Private</td>\n",
              "      <td>215646</td>\n",
              "      <td>High-school</td>\n",
              "      <td>9</td>\n",
              "      <td>Divorced</td>\n",
              "      <td>Handlers-cleaners</td>\n",
              "      <td>Not-in-family</td>\n",
              "      <td>White</td>\n",
              "      <td>Male</td>\n",
              "      <td>0</td>\n",
              "      <td>0</td>\n",
              "      <td>40</td>\n",
              "      <td>United-States</td>\n",
              "    </tr>\n",
              "    <tr>\n",
              "      <th>3</th>\n",
              "      <td>53</td>\n",
              "      <td>Private</td>\n",
              "      <td>234721</td>\n",
              "      <td>High-school</td>\n",
              "      <td>7</td>\n",
              "      <td>Married</td>\n",
              "      <td>Handlers-cleaners</td>\n",
              "      <td>Husband</td>\n",
              "      <td>Black</td>\n",
              "      <td>Male</td>\n",
              "      <td>0</td>\n",
              "      <td>0</td>\n",
              "      <td>40</td>\n",
              "      <td>United-States</td>\n",
              "    </tr>\n",
              "    <tr>\n",
              "      <th>4</th>\n",
              "      <td>28</td>\n",
              "      <td>Private</td>\n",
              "      <td>338409</td>\n",
              "      <td>Bachelors</td>\n",
              "      <td>13</td>\n",
              "      <td>Married</td>\n",
              "      <td>Prof-specialty</td>\n",
              "      <td>Wife</td>\n",
              "      <td>Black</td>\n",
              "      <td>Female</td>\n",
              "      <td>0</td>\n",
              "      <td>0</td>\n",
              "      <td>40</td>\n",
              "      <td>Cuba</td>\n",
              "    </tr>\n",
              "  </tbody>\n",
              "</table>\n",
              "</div>"
            ],
            "text/plain": [
              "   age         workclass  fnlwgt  ... capital-loss  hours-per-week native-country\n",
              "0   39         State-gov   77516  ...            0              40  United-States\n",
              "1   50  Self-emp-not-inc   83311  ...            0              13  United-States\n",
              "2   38           Private  215646  ...            0              40  United-States\n",
              "3   53           Private  234721  ...            0              40  United-States\n",
              "4   28           Private  338409  ...            0              40           Cuba\n",
              "\n",
              "[5 rows x 14 columns]"
            ]
          },
          "metadata": {
            "tags": []
          },
          "execution_count": 20
        }
      ]
    },
    {
      "cell_type": "markdown",
      "metadata": {
        "id": "9ia0b1Z5NBAd"
      },
      "source": [
        "#### Task 1: Creating the Contingency Table\n",
        "\n",
        "> A contingency table is a special type of frequency distribution table that displays the frequency counts of two categorical variables.\n",
        "\n",
        "By using `pd.crosstable`, create an appropriate table format to apply Chi-Square test on features `education` and `marital-status`.\n",
        "\n",
        "*hint: You may check the related recitation material.*"
      ]
    },
    {
      "cell_type": "code",
      "metadata": {
        "id": "OQK5TOafmmAS",
        "colab": {
          "base_uri": "https://localhost:8080/",
          "height": 266
        },
        "outputId": "7b8bab2e-a4de-4ce9-9f8e-323827d04cbe"
      },
      "source": [
        "contingency_table = pd.crosstab(adults_df[\"education\"], adults_df[\"marital-status\"])\n",
        "contingency_table\n"
      ],
      "execution_count": null,
      "outputs": [
        {
          "output_type": "execute_result",
          "data": {
            "text/html": [
              "<div>\n",
              "<style scoped>\n",
              "    .dataframe tbody tr th:only-of-type {\n",
              "        vertical-align: middle;\n",
              "    }\n",
              "\n",
              "    .dataframe tbody tr th {\n",
              "        vertical-align: top;\n",
              "    }\n",
              "\n",
              "    .dataframe thead th {\n",
              "        text-align: right;\n",
              "    }\n",
              "</style>\n",
              "<table border=\"1\" class=\"dataframe\">\n",
              "  <thead>\n",
              "    <tr style=\"text-align: right;\">\n",
              "      <th>marital-status</th>\n",
              "      <th>Divorced</th>\n",
              "      <th>Married</th>\n",
              "      <th>Never-married</th>\n",
              "    </tr>\n",
              "    <tr>\n",
              "      <th>education</th>\n",
              "      <th></th>\n",
              "      <th></th>\n",
              "      <th></th>\n",
              "    </tr>\n",
              "  </thead>\n",
              "  <tbody>\n",
              "    <tr>\n",
              "      <th>Bachelors</th>\n",
              "      <td>720</td>\n",
              "      <td>2840</td>\n",
              "      <td>1795</td>\n",
              "    </tr>\n",
              "    <tr>\n",
              "      <th>Doctorate</th>\n",
              "      <td>47</td>\n",
              "      <td>293</td>\n",
              "      <td>73</td>\n",
              "    </tr>\n",
              "    <tr>\n",
              "      <th>High-school</th>\n",
              "      <td>3288</td>\n",
              "      <td>6751</td>\n",
              "      <td>4664</td>\n",
              "    </tr>\n",
              "    <tr>\n",
              "      <th>Masters</th>\n",
              "      <td>299</td>\n",
              "      <td>1020</td>\n",
              "      <td>404</td>\n",
              "    </tr>\n",
              "    <tr>\n",
              "      <th>Preschool</th>\n",
              "      <td>5</td>\n",
              "      <td>24</td>\n",
              "      <td>22</td>\n",
              "    </tr>\n",
              "    <tr>\n",
              "      <th>Some-college</th>\n",
              "      <td>2102</td>\n",
              "      <td>4489</td>\n",
              "      <td>3725</td>\n",
              "    </tr>\n",
              "  </tbody>\n",
              "</table>\n",
              "</div>"
            ],
            "text/plain": [
              "marital-status  Divorced  Married  Never-married\n",
              "education                                       \n",
              "Bachelors            720     2840           1795\n",
              "Doctorate             47      293             73\n",
              "High-school         3288     6751           4664\n",
              "Masters              299     1020            404\n",
              "Preschool              5       24             22\n",
              "Some-college        2102     4489           3725"
            ]
          },
          "metadata": {
            "tags": []
          },
          "execution_count": 36
        }
      ]
    },
    {
      "cell_type": "markdown",
      "metadata": {
        "id": "PdXwgxO3mm6E"
      },
      "source": [
        "#### Task 2: Visualizing the Crosstable\n",
        "\n",
        "Create a *stacked bar chart* for the **row-wise normalized** crosstable, where the bars are grouped by education levels, so that any dependency should be visualy noticable. \n",
        "\n",
        "An exemplary figure can be found below.\n",
        "\n",
        "<img width=\"700\" height=\"300\" src=\"https://i.ibb.co/cTx8VQ4/pm.png\" />"
      ]
    },
    {
      "cell_type": "code",
      "metadata": {
        "id": "icgy20Vfml4m",
        "colab": {
          "base_uri": "https://localhost:8080/",
          "height": 428
        },
        "outputId": "880314f0-ec08-47c7-c611-8a81b1b97011"
      },
      "source": [
        "education = np.array([\"Bachelors\",\"Doctorate\",\"High-school\"\t,\"Masters\",\"Preschool\",\"Some-college\"])\n",
        "divorced = np.array([720,47,3288,299,5,2102])\n",
        "married = np.array([2840,293,6751,1020,24,4489])\n",
        "never_married = np.array([1795,73,4664,404,22,3725])\n",
        "total = divorced  + married + never_married\n",
        "proportion_divorced = np.true_divide(divorced, total) * 100\n",
        "proportion_married = np.true_divide(married, total) * 100\n",
        "proportion_never_married = np.true_divide(never_married, total) * 100\n",
        "\n",
        "# The position of the bars on the x-axis\n",
        "r = range(len(education))\n",
        "\n",
        "barWidth = 1\n",
        "#plot bars\n",
        "plt.figure(figsize=(10,7))\n",
        "ax1 = plt.bar(r, proportion_divorced, bottom=proportion_married+proportion_never_married,  edgecolor='white', width=barWidth, label=\"divorced\")\n",
        "ax2 = plt.bar(r, proportion_married, bottom=proportion_never_married, edgecolor='white', width=barWidth, label='Married')\n",
        "ax3 = plt.bar(r, proportion_never_married, edgecolor='white', width=barWidth, label='Never-married')\n",
        "plt.legend()\n",
        "plt.xticks(r, education, fontweight='bold')\n",
        "plt.ylabel(\"Percentage\")\n",
        "plt.show()\n"
      ],
      "execution_count": null,
      "outputs": [
        {
          "output_type": "display_data",
          "data": {
            "image/png": "[encoded data removed]",
            "text/plain": [
              "<Figure size 720x504 with 1 Axes>"
            ]
          },
          "metadata": {
            "tags": [],
            "needs_background": "light"
          }
        }
      ]
    },
    {
      "cell_type": "markdown",
      "metadata": {
        "id": "hbC8fdOvmnTx"
      },
      "source": [
        "#### Task 3: Computing The Chi-Square Test Statistic\n",
        "\n",
        "For this task, you are going to implement the Chi-Square Test from scratch. In the previous task, you created a contingency table that summarizes the relationship between two categorical variable by storing the frequencies, called **observations**, in each corresponding cell.  However, in order to observe the significance of these observations, we need to obtain **expected frequencies** which specify what the values of each cell of the contingency table would be if there was no association between the two variables. Once you obtain the expected frequencies, you can calculate the test statistic quite easily.\n",
        "\n",
        "Below you can find the detailed instructions to perform the test.\n",
        "\n",
        "1. Compute the contingency table.\n",
        "\n",
        "2. Calculate expected frequencies\n",
        "  - For a particular cell located at $i^{th}$ row and $j^{th}$ column, the expected frequency is $\\large{\\frac{(f_i*f_j)}{total}}$, where $f_i$ is the total frequency in row i and $f_j$ is the total frequency in column j. In parallel, $total$ is the overall frequency.\n",
        "\n",
        "  - For instance, in the contingency table below, red numbers represent row and column totals, whereas the blue value represents the total frequency. The expected frequency of cell [over 30, analog], highlighted as green, can be calculated as $\\large{\\frac{(60*80)}{200}}$.\n",
        "\n",
        "| |  | Watching | Preference | |\n",
        "|:-:|:-:|:-:|:-:|:-:|\n",
        "| Age\t|\tdigital | \tanalog |\tundecided |\n",
        "| under 30 | \t90 | \t40 |\t10 |\t<font color=\"red\">140</font>\n",
        "| over 30 |\t10 |\t**<font color=\"green\">40<font>** |\t10 |\t<font color=\"red\">60</font>\n",
        "|\t| <font color=\"red\">100</font> | \t<font color=\"red\">80</font> |\t<font color=\"red\">20</font> | \t<font color=\"blue\">200</font>\n",
        "\n",
        "3. Compute the Chi-squared statistic.\n",
        "\n",
        "  - $\\chi^2 = \\sum \\Large{\\frac{(f_o-f_e)^2}{f_e}}$, where $f_o$ and $f_e$ are the observed and expected frequencies, respectively.\n",
        "\n",
        "  - For each cell in the contingency table, you are going to compute the residual, $f_o-f_e$, take its square and divide it to $f_e$. And finally sum all the results, so that you will obtain the chi2 test statistic, $\\chi^2$.\n",
        "\n",
        "4. Find the Degrees of Freedom\n",
        "\n",
        "  - $(r-1)(c-1)$, where $r$ is the number of rows and $c$ is the number of the contingency table.\n",
        "\n",
        "5. Obtain the p-value.\n",
        "\n",
        "  - Use scipy's `chdtrc` function to calculate the p-value. The sample usage can be found below.\n",
        "\n",
        "  ```py\n",
        "  >>> from scipy.special import chdtrc\n",
        "    # dof -> degrees of freedom\n",
        "    # chi2_stat -> obtained chi2 statistic\n",
        "  >> chdtrc(dof, chi2_stat)\n",
        "  ```\n",
        "\n",
        "You can always test your results with the `scipy.stats.chi2_contingency` as we did in recitation 6.\n",
        "\n",
        "You may also check the link below to observe an exemplary setup.\n",
        "\n",
        "https://stattrek.com/chi-square-test/independence.aspx\n",
        "\n",
        "Once you perform the steps above, print the obtained $\\chi^2$ and corresponding p-value."
      ]
    },
    {
      "cell_type": "code",
      "metadata": {
        "id": "YxYRmqyQmllL",
        "colab": {
          "base_uri": "https://localhost:8080/",
          "height": 218
        },
        "outputId": "1761f869-8b6a-47dd-dd94-448c403ea858"
      },
      "source": [
        "\n",
        "chi2_stat, p_val, dof, ex = stats.chi2_contingency(contingency_table)\n",
        "print(\"===Chi2 Stat===\")\n",
        "print(chi2_stat)\n",
        "print(\"\\n\")\n",
        "print(\"===Degrees of Freedom===\")\n",
        "print(dof)\n",
        "print(\"\\n\")\n",
        "print(\"===P-Value===\")\n",
        "print(p_val)\n",
        "print(\"\\n\")\n",
        "\n"
      ],
      "execution_count": null,
      "outputs": [
        {
          "output_type": "stream",
          "text": [
            "===Chi2 Stat===\n",
            "473.36732762954875\n",
            "\n",
            "\n",
            "===Degrees of Freedom===\n",
            "10\n",
            "\n",
            "\n",
            "===P-Value===\n",
            "2.1548811534964046e-95\n",
            "\n",
            "\n"
          ],
          "name": "stdout"
        }
      ]
    },
    {
      "cell_type": "code",
      "metadata": {
        "id": "daYrJkpVoeUI"
      },
      "source": [
        ""
      ],
      "execution_count": null,
      "outputs": []
    },
    {
      "cell_type": "markdown",
      "metadata": {
        "id": "U9chhXnXQUUk"
      },
      "source": [
        "#### Task 4: Conclusion\n",
        "\n",
        "Compare the obtained p-value and $\\alpha$ (0.05), then evaluate your hypotheses."
      ]
    },
    {
      "cell_type": "markdown",
      "metadata": {
        "id": "x_QRWVZMTD73"
      },
      "source": [
        "*Obtained p-value (2.15e-95) is smaller than our alpha value (0.05). Therefore, we reject the null hypothesis of education and marital status being independent. Chi square test has showed that there is a correlation between.*\n",
        "\n",
        "\n",
        "\n",
        "\n"
      ]
    }
  ]
}